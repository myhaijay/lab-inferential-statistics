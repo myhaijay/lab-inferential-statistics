{
 "cells": [
  {
   "cell_type": "markdown",
   "id": "60e67e6c",
   "metadata": {},
   "source": [
    "## Lab | Inferential statistics\n",
    "\n",
    "\n",
    "#### Instructions\n",
    "1. It is assumed that the mean systolic blood pressure is μ = 120 mm Hg. In the Honolulu Heart Study, a sample of n = 100 people had an average systolic blood pressure of 130.1 mm Hg with a standard deviation of 21.21 mm Hg. Is the group significantly different (with respect to systolic blood pressure!) from the regular population?\n",
    "\n",
    "    * Set up the hypothesis test.\n",
    "    * Write down all the steps followed for setting up the test. \n",
    "    * Calculate the test statistic by hand and also code it in Python. It should be 4.76190. We will take a look at how to make decisions based on this calculated value.\n",
    "\n",
    "2. If you finished the previous question, please go through the code for principal_component_analysis_example provided in the files_for_lab folder ."
   ]
  },
  {
   "cell_type": "markdown",
   "id": "78616393",
   "metadata": {},
   "source": [
    "From the information given above,this is a one-tailed test. And :\n",
    "The Null Hypothesis(H0) - in this case H0: μ = 120 mm Hg;\n",
    "\n",
    "The Alternative Hypothesis(Ha) - in this case Ha: μ > 120 mm Hg.\n",
    "H0: μ = 120\n",
    "Ha: μ > 120"
   ]
  },
  {
   "cell_type": "markdown",
   "id": "7eda53cb",
   "metadata": {},
   "source": [
    "#### Steps \n",
    "* Go through the problem statement to understand the given information and parameters.\n",
    "* Define/note the Null Hypothesis - H0: μ = 120\n",
    "* Define/note the Alternative Hypothesis - Ha: μ > 120\n",
    "* Determine if it is a one-tailed or two-tailed test based on the given information.\n",
    "* Calculate test statistics and make conclusions based on your result\n",
    "\n"
   ]
  },
  {
   "cell_type": "code",
   "execution_count": 1,
   "id": "4b0011e4",
   "metadata": {},
   "outputs": [
    {
     "data": {
      "text/plain": [
       "4.761904761904759"
      ]
     },
     "execution_count": 1,
     "metadata": {},
     "output_type": "execute_result"
    }
   ],
   "source": [
    "import math\n",
    "\n",
    "sample_mean = 130.1 \n",
    "pop_mean = 120\n",
    "pop_std = 21.21\n",
    "n = 100\n",
    "\n",
    "statistic = (sample_mean - pop_mean)/(pop_std/math.sqrt(n))\n",
    "statistic"
   ]
  },
  {
   "cell_type": "code",
   "execution_count": null,
   "id": "65035f2f",
   "metadata": {},
   "outputs": [],
   "source": []
  }
 ],
 "metadata": {
  "kernelspec": {
   "display_name": "Python 3",
   "language": "python",
   "name": "python3"
  },
  "language_info": {
   "codemirror_mode": {
    "name": "ipython",
    "version": 3
   },
   "file_extension": ".py",
   "mimetype": "text/x-python",
   "name": "python",
   "nbconvert_exporter": "python",
   "pygments_lexer": "ipython3",
   "version": "3.8.8"
  }
 },
 "nbformat": 4,
 "nbformat_minor": 5
}
